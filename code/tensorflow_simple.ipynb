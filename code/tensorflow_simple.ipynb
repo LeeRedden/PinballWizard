{
 "cells": [
  {
   "cell_type": "code",
   "execution_count": 104,
   "metadata": {
    "collapsed": false
   },
   "outputs": [
    {
     "name": "stdout",
     "output_type": "stream",
     "text": [
      "The autoreload extension is already loaded. To reload it, use:\n",
      "  %reload_ext autoreload\n"
     ]
    }
   ],
   "source": [
    "%load_ext autoreload\n",
    "%autoreload 2\n",
    "\n",
    "import collections\n",
    "import cv2\n",
    "import numpy as np\n",
    "import os\n",
    "import random\n",
    "import reader \n",
    "import tensorflow as tf\n",
    "\n",
    "\n",
    "class simple_learner(object):\n",
    "    def __init__(self, num_classes, height=28, width=28):\n",
    "        self.num_classes = num_classes\n",
    "        self.height = height\n",
    "        self.width = width\n",
    "        \n",
    "        self.tf_sess = tf.InteractiveSession()\n",
    "    \n",
    "    def network(self, learning_rate=0.00000005):\n",
    "        # input and output\n",
    "        i = tf.placeholder(tf.float32, shape=[None, self.height*self.width])\n",
    "        self.i = i\n",
    "        l = tf.placeholder(tf.float32, shape=[None, self.num_classes])\n",
    "        self.l = l\n",
    "        \n",
    "        # add variables\n",
    "        W = tf.Variable(tf.zeros([self.height*self.width, self.num_classes]))\n",
    "        b = tf.Variable(tf.zeros([self.num_classes]))\n",
    "        \n",
    "        #initialize\n",
    "        self.tf_sess.run(tf.initialize_all_variables())\n",
    "        \n",
    "        # create output and loss\n",
    "        output = tf.nn.softmax(tf.matmul(i, W) + b)\n",
    "        self.output = output\n",
    "        \n",
    "        cross_entropy = tf.reduce_mean(-tf.reduce_sum(l * tf.log(output), reduction_indices=[1]))\n",
    "\n",
    "        # training\n",
    "        self.train_step = tf.train.GradientDescentOptimizer(learning_rate).minimize(cross_entropy)\n",
    "        \n",
    "        correct_prediction = tf.equal(tf.argmax(l,1), tf.argmax(output,1))\n",
    "        self.accuracy = tf.reduce_mean(tf.cast(correct_prediction, tf.float32))\n",
    "        \n",
    "    def test_accuracy(self, test_source):\n",
    "        images, labels = test_source.all()\n",
    "        return self.accuracy.eval(feed_dict={self.i: images, self.l: labels})\n",
    "        \n",
    "    def train(self, num_iterations, train_source, test_source):\n",
    "        for i in xrange(num_iterations):\n",
    "            if i % 500 == 0: \n",
    "                print i, self.test_accuracy(test_source)\n",
    "\n",
    "            images, labels = train_source.next_batch(50)\n",
    "            self.train_step.run(feed_dict={self.i: images, self.l: labels})\n",
    "        \n",
    "        print self.test_accuracy(test_source)\n",
    "        \n",
    "    def inference(self, images):\n",
    "        return self.output.eval(feed_dict={self.i: images})\n"
   ]
  },
  {
   "cell_type": "code",
   "execution_count": 106,
   "metadata": {
    "collapsed": false
   },
   "outputs": [
    {
     "name": "stderr",
     "output_type": "stream",
     "text": [
      "Exception AssertionError: AssertionError() in <bound method InteractiveSession.__del__ of <tensorflow.python.client.session.InteractiveSession object at 0x7fc9b0957b50>> ignored\n"
     ]
    },
    {
     "name": "stdout",
     "output_type": "stream",
     "text": [
      "0 0.333333\n",
      "500 0.555556\n",
      "1000 0.555556\n",
      "1500 0.577778\n",
      "0.6\n"
     ]
    }
   ],
   "source": [
    "train = reader.reader('/home/lee/Desktop/rooms')\n",
    "test = reader.reader('/home/lee/Desktop/rooms_test')\n",
    "\n",
    "\n",
    "imgHeight = 28\n",
    "imgWidth = 28\n",
    "numClasses = train.num_classes()\n",
    "\n",
    "learner = simple_learner(numClasses)\n",
    "learner.network()\n",
    "learner.train(2000, train, test)"
   ]
  },
  {
   "cell_type": "code",
   "execution_count": 108,
   "metadata": {
    "collapsed": false
   },
   "outputs": [
    {
     "name": "stdout",
     "output_type": "stream",
     "text": [
      "----TRAINING----\n",
      "dining_room 42\n",
      "kitchen 44\n",
      "living_room 57\n",
      "----TESTING----\n",
      "dining_room 15\n",
      "kitchen 15\n",
      "living_room 15\n",
      "\n",
      "----Confusion Matrix----\n"
     ]
    },
    {
     "data": {
      "text/plain": [
       "array([[ 6,  2,  7],\n",
       "       [ 4, 13,  0],\n",
       "       [ 5,  0,  8]])"
      ]
     },
     "execution_count": 108,
     "metadata": {},
     "output_type": "execute_result"
    }
   ],
   "source": [
    "print \"----TRAINING----\"\n",
    "train.print_classes()\n",
    "print \"----TESTING----\"\n",
    "test.print_classes()\n",
    "print \"\"\n",
    "\n",
    "from sklearn.metrics import confusion_matrix\n",
    "\n",
    "images, labels = test.all()\n",
    "output = tf.argmax(learner.inference(images), 1).eval()\n",
    "labels = tf.argmax(labels, 1).eval()\n",
    "\n",
    "\n",
    "print \"----Confusion Matrix----\"\n",
    "confusion_matrix(output, labels)"
   ]
  },
  {
   "cell_type": "code",
   "execution_count": null,
   "metadata": {
    "collapsed": true
   },
   "outputs": [],
   "source": [
    "# # input and output\n",
    "# x = tf.placeholder(tf.float32, shape=[None, imgHeight*imgWidth])\n",
    "# y_ = tf.placeholder(tf.float32, shape=[None, numClasses])\n",
    "\n",
    "# # create network\n",
    "# W = tf.Variable(tf.zeros([imgHeight*imgWidth,numClasses]))\n",
    "# b = tf.Variable(tf.zeros([numClasses]))\n",
    "# sess.run(tf.initialize_all_variables())\n",
    "# y = tf.nn.softmax(tf.matmul(x,W) + b)\n",
    "# cross_entropy = tf.reduce_mean(-tf.reduce_sum(y_ * tf.log(y), reduction_indices=[1]))\n",
    "\n",
    "\n",
    "# # training\n",
    "# train_step = tf.train.GradientDescentOptimizer(0.00000005).minimize(cross_entropy)\n",
    "\n",
    "# correct_prediction = tf.equal(tf.argmax(y,1), tf.argmax(y_,1))\n",
    "# accuracy = tf.reduce_mean(tf.cast(correct_prediction, tf.float32))\n",
    "\n",
    "\n",
    "# for i in xrange(10000):\n",
    "#     if (i) % 500 == 0: \n",
    "#         images, labels = test.all()\n",
    "#         print i, (accuracy.eval(feed_dict={x: images, y_: labels}))\n",
    "        \n",
    "#     batch = train.next_batch(50)\n",
    "#     train_step.run(feed_dict={x: batch[0], y_: batch[1]})\n",
    "#     #print y.eval(feed_dict={x: batch[0]})\n",
    "    \n",
    "\n",
    "# images, labels = test.all()\n",
    "# print(accuracy.eval(feed_dict={x: images, y_: labels}))"
   ]
  },
  {
   "cell_type": "code",
   "execution_count": null,
   "metadata": {
    "collapsed": false
   },
   "outputs": [],
   "source": [
    "def weight_variable(shape):\n",
    "    initial = tf.truncated_normal(shape, stddev=0.1)\n",
    "    return tf.Variable(initial)\n",
    "\n",
    "def bias_variable(shape):\n",
    "    initial = tf.constant(0.1, shape=shape)\n",
    "    return tf.Variable(initial)\n",
    "\n",
    "def conv2d(x, W):\n",
    "    return tf.nn.conv2d(x, W, strides=[1, 1, 1, 1], padding='SAME')\n",
    "\n",
    "def max_pool_2x2(x):\n",
    "    return tf.nn.max_pool(x, ksize=[1, 2, 2, 1], strides=[1, 2, 2, 1], padding='SAME')\n",
    "\n",
    "\n",
    "# W_conv1 = weight_variable([5, 5, 1, 32])\n",
    "# b_conv1 = bias_variable([32])\n",
    "\n",
    "# x_image = tf.reshape(x, [-1,28,28,1])\n",
    "\n",
    "# h_conv1 = tf.nn.relu(conv2d(x_image, W_conv1) + b_conv1)\n",
    "# h_pool1 = max_pool_2x2(h_conv1)\n",
    "\n",
    "# W_conv2 = weight_variable([5, 5, 32, 64])\n",
    "# b_conv2 = bias_variable([64])\n",
    "\n",
    "# h_conv2 = tf.nn.relu(conv2d(h_pool1, W_conv2) + b_conv2)\n",
    "# h_pool2 = max_pool_2x2(h_conv2)\n",
    "\n",
    "\n",
    "# W_fc1 = weight_variable([7 * 7 * 64, 1024])\n",
    "# b_fc1 = bias_variable([1024])\n",
    "\n",
    "# h_pool2_flat = tf.reshape(h_pool2, [-1, 7*7*64])\n",
    "# h_fc1 = tf.nn.relu(tf.matmul(h_pool2_flat, W_fc1) + b_fc1)\n",
    "\n",
    "# keep_prob = tf.placeholder(tf.float32)\n",
    "# h_fc1_drop = tf.nn.dropout(h_fc1, keep_prob)\n",
    "\n",
    "# W_fc2 = weight_variable([1024, 10])\n",
    "# b_fc2 = bias_variable([10])\n",
    "\n",
    "# y_conv=tf.nn.softmax(tf.matmul(h_fc1_drop, W_fc2) + b_fc2)\n",
    "\n",
    "\n",
    "# cross_entropy = tf.reduce_mean(-tf.reduce_sum(y_ * tf.log(y_conv), reduction_indices=[1]))\n",
    "# train_step = tf.train.AdamOptimizer(1e-4).minimize(cross_entropy)\n",
    "# correct_prediction = tf.equal(tf.argmax(y_conv,1), tf.argmax(y_,1))\n",
    "# accuracy = tf.reduce_mean(tf.cast(correct_prediction, tf.float32))\n",
    "# sess.run(tf.initialize_all_variables())\n",
    "# for i in range(20000):\n",
    "#   batch = mnist.train.next_batch(50)\n",
    "#   if i%100 == 0:\n",
    "#     train_accuracy = accuracy.eval(feed_dict={\n",
    "#         x:batch[0], y_: batch[1], keep_prob: 1.0})\n",
    "#     print(\"step %d, training accuracy %g\"%(i, train_accuracy))\n",
    "#   train_step.run(feed_dict={x: batch[0], y_: batch[1], keep_prob: 0.5})\n",
    "\n",
    "# print(\"test accuracy %g\"%accuracy.eval(feed_dict={\n",
    "#     x: mnist.test.images, y_: mnist.test.labels, keep_prob: 1.0}))"
   ]
  }
 ],
 "metadata": {
  "kernelspec": {
   "display_name": "Python 2",
   "language": "python",
   "name": "python2"
  },
  "language_info": {
   "codemirror_mode": {
    "name": "ipython",
    "version": 2
   },
   "file_extension": ".py",
   "mimetype": "text/x-python",
   "name": "python",
   "nbconvert_exporter": "python",
   "pygments_lexer": "ipython2",
   "version": "2.7.6"
  }
 },
 "nbformat": 4,
 "nbformat_minor": 0
}
