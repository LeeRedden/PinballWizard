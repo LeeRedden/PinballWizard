{
 "cells": [
  {
   "cell_type": "code",
   "execution_count": 104,
   "metadata": {
    "collapsed": false
   },
   "outputs": [
    {
     "name": "stdout",
     "output_type": "stream",
     "text": [
      "The autoreload extension is already loaded. To reload it, use:\n",
      "  %reload_ext autoreload\n"
     ]
    }
   ],
   "source": [
    "%load_ext autoreload\n",
    "%autoreload 2\n",
    "\n",
    "import collections\n",
    "import cv2\n",
    "import numpy as np\n",
    "import os\n",
    "import random\n",
    "import reader \n",
    "import tensorflow as tf\n",
    "\n",
    "\n",
    "class simple_learner(object):\n",
    "    def __init__(self, num_classes, height=28, width=28):\n",
    "        self.num_classes = num_classes\n",
    "        self.height = height\n",
    "        self.width = width\n",
    "        \n",
    "        self.tf_sess = tf.InteractiveSession()\n",
    "    \n",
    "    def network(self, learning_rate=0.00000005):\n",
    "        # input and output\n",
    "        i = tf.placeholder(tf.float32, shape=[None, self.height*self.width])\n",
    "        self.i = i\n",
    "        l = tf.placeholder(tf.float32, shape=[None, self.num_classes])\n",
    "        self.l = l\n",
    "        \n",
    "        # add variables\n",
    "        W = tf.Variable(tf.zeros([self.height*self.width, self.num_classes]))\n",
    "        b = tf.Variable(tf.zeros([self.num_classes]))\n",
    "        \n",
    "        #initialize\n",
    "        self.tf_sess.run(tf.initialize_all_variables())\n",
    "        \n",
    "        # create output and loss\n",
    "        output = tf.nn.softmax(tf.matmul(i, W) + b)\n",
    "        self.output = output\n",
    "        \n",
    "        cross_entropy = tf.reduce_mean(-tf.reduce_sum(l * tf.log(output), reduction_indices=[1]))\n",
    "\n",
    "        # training\n",
    "        self.train_step = tf.train.GradientDescentOptimizer(learning_rate).minimize(cross_entropy)\n",
    "        \n",
    "        correct_prediction = tf.equal(tf.argmax(l,1), tf.argmax(output,1))\n",
    "        self.accuracy = tf.reduce_mean(tf.cast(correct_prediction, tf.float32))\n",
    "        \n",
    "    def test_accuracy(self, test_source):\n",
    "        images, labels = test_source.all()\n",
    "        return self.accuracy.eval(feed_dict={self.i: images, self.l: labels})\n",
    "        \n",
    "    def train(self, num_iterations, train_source, test_source):\n",
    "        for i in xrange(num_iterations):\n",
    "            if i % 500 == 0: \n",
    "                print i, self.test_accuracy(test_source)\n",
    "\n",
    "            images, labels = train_source.next_batch(50)\n",
    "            self.train_step.run(feed_dict={self.i: images, self.l: labels})\n",
    "        \n",
    "        print self.test_accuracy(test_source)\n",
    "        \n",
    "    def inference(self, images):\n",
    "        return self.output.eval(feed_dict={self.i: images})\n"
   ]
  },
  {
   "cell_type": "code",
   "execution_count": 106,
   "metadata": {
    "collapsed": false
   },
   "outputs": [
    {
     "name": "stderr",
     "output_type": "stream",
     "text": [
      "Exception AssertionError: AssertionError() in <bound method InteractiveSession.__del__ of <tensorflow.python.client.session.InteractiveSession object at 0x7fc9b0957b50>> ignored\n"
     ]
    },
    {
     "name": "stdout",
     "output_type": "stream",
     "text": [
      "0 0.333333\n",
      "500 0.555556\n",
      "1000 0.555556\n",
      "1500 0.577778\n",
      "0.6\n"
     ]
    }
   ],
   "source": [
    "train = reader.reader('/home/lee/Desktop/rooms')\n",
    "test = reader.reader('/home/lee/Desktop/rooms_test')\n",
    "\n",
    "\n",
    "imgHeight = 28\n",
    "imgWidth = 28\n",
    "numClasses = train.num_classes()\n",
    "\n",
    "learner = simple_learner(numClasses)\n",
    "learner.network()\n",
    "learner.train(2000, train, test)"
   ]
  },
  {
   "cell_type": "code",
   "execution_count": 108,
   "metadata": {
    "collapsed": false
   },
   "outputs": [
    {
     "name": "stdout",
     "output_type": "stream",
     "text": [
      "----TRAINING----\n",
      "dining_room 42\n",
      "kitchen 44\n",
      "living_room 57\n",
      "----TESTING----\n",
      "dining_room 15\n",
      "kitchen 15\n",
      "living_room 15\n",
      "\n",
      "----Confusion Matrix----\n"
     ]
    },
    {
     "data": {
      "text/plain": [
       "array([[ 6,  2,  7],\n",
       "       [ 4, 13,  0],\n",
       "       [ 5,  0,  8]])"
      ]
     },
     "execution_count": 108,
     "metadata": {},
     "output_type": "execute_result"
    }
   ],
   "source": [
    "print \"----TRAINING----\"\n",
    "train.print_classes()\n",
    "print \"----TESTING----\"\n",
    "test.print_classes()\n",
    "print \"\"\n",
    "\n",
    "from sklearn.metrics import confusion_matrix\n",
    "\n",
    "images, labels = test.all()\n",
    "output = tf.argmax(learner.inference(images), 1).eval()\n",
    "labels = tf.argmax(labels, 1).eval()\n",
    "\n",
    "\n",
    "print \"----Confusion Matrix----\"\n",
    "confusion_matrix(output, labels)"
   ]
  },
  {
   "cell_type": "code",
   "execution_count": null,
   "metadata": {
    "collapsed": false
   },
   "outputs": [],
   "source": []
  }
 ],
 "metadata": {
  "kernelspec": {
   "display_name": "Python 2",
   "language": "python",
   "name": "python2"
  },
  "language_info": {
   "codemirror_mode": {
    "name": "ipython",
    "version": 2
   },
   "file_extension": ".py",
   "mimetype": "text/x-python",
   "name": "python",
   "nbconvert_exporter": "python",
   "pygments_lexer": "ipython2",
   "version": "2.7.6"
  }
 },
 "nbformat": 4,
 "nbformat_minor": 0
}
